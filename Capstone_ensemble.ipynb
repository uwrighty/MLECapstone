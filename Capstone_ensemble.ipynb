{
 "cells": [
  {
   "cell_type": "markdown",
   "metadata": {},
   "source": [
    "## Ensemble of the CNN output"
   ]
  },
  {
   "cell_type": "markdown",
   "metadata": {},
   "source": [
    "Using the output of each of our CNN models, use an ensemble learning method to form a final prediction. Hold back the an unseen set of data to test the performance of the ensemble model."
   ]
  },
  {
   "cell_type": "markdown",
   "metadata": {},
   "source": [
    "### Create the input features for our ensemble"
   ]
  },
  {
   "cell_type": "markdown",
   "metadata": {},
   "source": [
    "### Load data"
   ]
  },
  {
   "cell_type": "markdown",
   "metadata": {},
   "source": [
    "Firstly load, and validate the output of each CNN to form input for our ensemble."
   ]
  },
  {
   "cell_type": "code",
   "execution_count": 647,
   "metadata": {
    "collapsed": true
   },
   "outputs": [],
   "source": [
    "import os\n",
    "import numpy as np\n",
    "from glob import glob\n",
    "import json"
   ]
  },
  {
   "cell_type": "code",
   "execution_count": 648,
   "metadata": {
    "collapsed": true
   },
   "outputs": [],
   "source": [
    "train_targets = np.load(open('./images/train_targets.npy','rb'))\n",
    "valid_targets = np.load(open('./images/valid_targets.npy','rb'))\n",
    "test_targets = np.load(open('./images/test_targets.npy','rb'))"
   ]
  },
  {
   "cell_type": "code",
   "execution_count": 649,
   "metadata": {
    "collapsed": true
   },
   "outputs": [],
   "source": [
    "xception_final_train = np.load(open('./cnn_output/xception_train.npy', 'rb'))\n",
    "xception_final_validation = np.load(open('./cnn_output/xception_validation.npy', 'rb'))\n",
    "xception_final_test = np.load(open('./cnn_output/xception_test.npy', 'rb'))"
   ]
  },
  {
   "cell_type": "code",
   "execution_count": 650,
   "metadata": {},
   "outputs": [],
   "source": [
    "inception_final_train = np.load(open('./cnn_output/inception_train.npy', 'rb'))\n",
    "inception_final_validation = np.load(open('./cnn_output/inception_validation.npy', 'rb'))\n",
    "inception_final_test = np.load(open('./cnn_output/inception_test.npy', 'rb'))"
   ]
  },
  {
   "cell_type": "code",
   "execution_count": 651,
   "metadata": {
    "collapsed": true
   },
   "outputs": [],
   "source": [
    "resnet_final_train = np.load(open('./cnn_output/resnet_train.npy', 'rb'))\n",
    "resnet_final_validation = np.load(open('./cnn_output/resnet_validation.npy', 'rb'))\n",
    "resnet_final_test = np.load(open('./cnn_output/resnet_test.npy', 'rb'))"
   ]
  },
  {
   "cell_type": "markdown",
   "metadata": {},
   "source": [
    "Also load the intermediate stages of the inception and xception models to potentially use as additional input features"
   ]
  },
  {
   "cell_type": "code",
   "execution_count": 652,
   "metadata": {
    "collapsed": true
   },
   "outputs": [],
   "source": [
    "inception_intermediate_train = np.load(open('./cnn_output/inception_pre_train.npy', 'rb'))\n",
    "inception_intermediate_validation = np.load(open('./cnn_output/inception_pre_validation.npy', 'rb'))\n",
    "inception_intermediate_test = np.load(open('./cnn_output/inception_pre_test.npy', 'rb'))"
   ]
  },
  {
   "cell_type": "code",
   "execution_count": 653,
   "metadata": {
    "collapsed": true
   },
   "outputs": [],
   "source": [
    "xception_intermediate_train = np.load(open('./cnn_output/xception_pre_train.npy', 'rb'))\n",
    "xception_intermediate_validation = np.load(open('./cnn_output/xception_pre_validation.npy', 'rb'))\n",
    "xception_intermediate_test = np.load(open('./cnn_output/xception_pre_test.npy', 'rb'))"
   ]
  },
  {
   "cell_type": "markdown",
   "metadata": {},
   "source": [
    "Ensure all the input looks ok before we use it"
   ]
  },
  {
   "cell_type": "code",
   "execution_count": 654,
   "metadata": {},
   "outputs": [
    {
     "data": {
      "text/plain": [
       "True"
      ]
     },
     "execution_count": 654,
     "metadata": {},
     "output_type": "execute_result"
    }
   ],
   "source": [
    "(len(xception_final_test) == \n",
    " len(xception_intermediate_test) == \n",
    " len(inception_final_test) ==\n",
    " len(inception_intermediate_test) ==\n",
    " len(resnet_final_test) == \n",
    " len(test_targets))\n"
   ]
  },
  {
   "cell_type": "code",
   "execution_count": 655,
   "metadata": {},
   "outputs": [
    {
     "data": {
      "text/plain": [
       "True"
      ]
     },
     "execution_count": 655,
     "metadata": {},
     "output_type": "execute_result"
    }
   ],
   "source": [
    "(len(xception_final_train) == \n",
    " len(xception_intermediate_train) == \n",
    " len(inception_final_train) ==\n",
    " len(inception_intermediate_train) ==\n",
    " len(resnet_final_train) == \n",
    " len(train_targets))"
   ]
  },
  {
   "cell_type": "code",
   "execution_count": 656,
   "metadata": {},
   "outputs": [
    {
     "data": {
      "text/plain": [
       "True"
      ]
     },
     "execution_count": 656,
     "metadata": {},
     "output_type": "execute_result"
    }
   ],
   "source": [
    "(len(xception_final_validation) == \n",
    " len(xception_intermediate_validation) == \n",
    " len(inception_final_validation) ==\n",
    " len(inception_intermediate_validation) ==\n",
    " len(resnet_final_validation) == \n",
    " len(valid_targets))"
   ]
  },
  {
   "cell_type": "code",
   "execution_count": 657,
   "metadata": {},
   "outputs": [
    {
     "name": "stdout",
     "output_type": "stream",
     "text": [
      "[ 0.9649052   0.03509481]\n",
      "[ 0.  1.]\n",
      "[ 0.91125214  0.08874789]\n",
      "[  1.00000000e+00   1.37481881e-21]\n",
      "[ 1.  0.]\n"
     ]
    }
   ],
   "source": [
    "print(xception_final_test[0])\n",
    "print(xception_intermediate_test[0])\n",
    "print(resnet_final_test[0])\n",
    "print(inception_final_test[0])\n",
    "print(inception_intermediate_test[0])"
   ]
  },
  {
   "cell_type": "code",
   "execution_count": 658,
   "metadata": {},
   "outputs": [
    {
     "name": "stdout",
     "output_type": "stream",
     "text": [
      "[ 0.9649052   0.03509481]\n",
      "[ 0.  1.]\n",
      "[ 0.91125214  0.08874789]\n",
      "[  1.00000000e+00   1.37481881e-21]\n",
      "[ 1.  0.]\n",
      "[ 1.  0.]\n"
     ]
    }
   ],
   "source": [
    "print(xception_final_test[0])\n",
    "print(xception_intermediate_test[0])\n",
    "print(resnet_final_test[0])\n",
    "print(inception_final_test[0])\n",
    "print(inception_intermediate_test[0])\n",
    "print(test_targets[0])"
   ]
  },
  {
   "cell_type": "code",
   "execution_count": 659,
   "metadata": {},
   "outputs": [
    {
     "name": "stdout",
     "output_type": "stream",
     "text": [
      "[ 0.34110832  0.65889168]\n",
      "[ 0.  1.]\n",
      "[ 0.93360239  0.06639765]\n",
      "[ 0.  1.]\n",
      "[ 1.  0.]\n",
      "[ 0.  1.]\n"
     ]
    }
   ],
   "source": [
    "print(xception_final_train[1])\n",
    "print(xception_intermediate_train[1])\n",
    "print(resnet_final_train[1])\n",
    "print(inception_final_train[1])\n",
    "print(inception_intermediate_train[1])\n",
    "print(train_targets[1])"
   ]
  },
  {
   "cell_type": "code",
   "execution_count": 660,
   "metadata": {},
   "outputs": [
    {
     "name": "stdout",
     "output_type": "stream",
     "text": [
      "[ 0.23389982  0.76610011]\n",
      "[ 1.  0.]\n",
      "[ 0.55512452  0.44487545]\n",
      "[ 0.  1.]\n",
      "[ 1.  0.]\n",
      "[ 0.  1.]\n"
     ]
    }
   ],
   "source": [
    "print(xception_final_train[100])\n",
    "print(xception_intermediate_train[100])\n",
    "print(resnet_final_train[100])\n",
    "print(inception_final_train[100])\n",
    "print(inception_intermediate_train[100])\n",
    "print(train_targets[100])"
   ]
  },
  {
   "cell_type": "code",
   "execution_count": 661,
   "metadata": {},
   "outputs": [
    {
     "name": "stdout",
     "output_type": "stream",
     "text": [
      "[ 0.32793856  0.67206144]\n",
      "[ 1.  0.]\n",
      "[ 0.82669687  0.17330314]\n",
      "[ 1.  0.]\n",
      "[ 1.  0.]\n",
      "[ 1.  0.]\n"
     ]
    }
   ],
   "source": [
    "print(xception_final_validation[101])\n",
    "print(xception_intermediate_validation[101])\n",
    "print(resnet_final_validation[101])\n",
    "print(inception_final_validation[101])\n",
    "print(inception_intermediate_validation[101])\n",
    "print(valid_targets[101])"
   ]
  },
  {
   "cell_type": "markdown",
   "metadata": {},
   "source": [
    "### Transform the data"
   ]
  },
  {
   "cell_type": "markdown",
   "metadata": {},
   "source": [
    "Append the validation data set to the training dataset, we will use cross validation when training our ensemble so this will give us more training data."
   ]
  },
  {
   "cell_type": "code",
   "execution_count": 662,
   "metadata": {
    "collapsed": true
   },
   "outputs": [],
   "source": [
    "xception_appended_final_train = np.append(xception_final_train, xception_final_validation, axis=0)\n",
    "xception_appended_intermediate_train = np.append(xception_intermediate_train, xception_intermediate_validation, axis=0)\n",
    "inception_appended_final_train = np.append(inception_final_train, inception_final_validation, axis=0)\n",
    "inception_appended_intermediate_train = np.append(inception_intermediate_train, inception_intermediate_validation, axis=0)\n",
    "resnet_appended_final_train = np.append(resnet_final_train, resnet_final_validation, axis=0)"
   ]
  },
  {
   "cell_type": "code",
   "execution_count": 663,
   "metadata": {},
   "outputs": [
    {
     "name": "stdout",
     "output_type": "stream",
     "text": [
      "(2150, 2)\n",
      "(2150, 2)\n",
      "(2150, 2)\n",
      "(2150, 2)\n",
      "(2150, 2)\n"
     ]
    }
   ],
   "source": [
    "print(np.shape(xception_appended_final_train))\n",
    "print(np.shape(xception_appended_intermediate_train))\n",
    "print(np.shape(inception_appended_final_train))\n",
    "print(np.shape(inception_appended_intermediate_train))\n",
    "print(np.shape(resnet_appended_final_train))"
   ]
  },
  {
   "cell_type": "markdown",
   "metadata": {},
   "source": [
    "Get the malignant feature predictor(in element position 1 in each input row)  from each input array and create are new input vector."
   ]
  },
  {
   "cell_type": "code",
   "execution_count": 664,
   "metadata": {},
   "outputs": [],
   "source": [
    "a = xception_appended_final_train[:,1]\n",
    "b = resnet_appended_final_train[:,1]\n",
    "c = inception_appended_final_train[:,1]\n",
    "d = xception_appended_intermediate_train[:,1]\n",
    "e = inception_appended_intermediate_train[:,1]\n"
   ]
  },
  {
   "cell_type": "code",
   "execution_count": 665,
   "metadata": {},
   "outputs": [],
   "source": [
    "train_data = np.vstack((a,b,c,d,e))\n",
    "train_data = train_data.T\n",
    "train_data_with_int = train_data\n",
    "train_data = train_data[:,0:3]"
   ]
  },
  {
   "cell_type": "code",
   "execution_count": 666,
   "metadata": {},
   "outputs": [
    {
     "name": "stdout",
     "output_type": "stream",
     "text": [
      "(2150, 5)\n",
      "[ 0.76610011  0.44487545  1.          0.          0.        ]\n",
      "(2150, 3)\n",
      "[ 0.76610011  0.44487545  1.        ]\n"
     ]
    }
   ],
   "source": [
    "print(np.shape(train_data_with_int))\n",
    "print(train_data_with_int[100])\n",
    "print(np.shape(train_data))\n",
    "print(train_data[100])"
   ]
  },
  {
   "cell_type": "code",
   "execution_count": 667,
   "metadata": {
    "collapsed": true
   },
   "outputs": [],
   "source": [
    "a = xception_final_test[:,1]\n",
    "b = resnet_final_test[:,1]\n",
    "c = inception_final_test[:,1]\n",
    "d = xception_intermediate_test[:,1]\n",
    "e = inception_intermediate_test[:,1]"
   ]
  },
  {
   "cell_type": "code",
   "execution_count": 668,
   "metadata": {
    "collapsed": true
   },
   "outputs": [],
   "source": [
    "test_data_with_int = np.vstack((a,b,c,d,e)).T"
   ]
  },
  {
   "cell_type": "code",
   "execution_count": 669,
   "metadata": {},
   "outputs": [],
   "source": [
    "test_data = test_data_with_int[:,0:3]"
   ]
  },
  {
   "cell_type": "code",
   "execution_count": 670,
   "metadata": {},
   "outputs": [
    {
     "name": "stdout",
     "output_type": "stream",
     "text": [
      "(600, 5)\n",
      "(600, 3)\n",
      "[  3.50948051e-02   8.87478888e-02   1.37481881e-21   1.00000000e+00\n",
      "   0.00000000e+00]\n",
      "[  3.50948051e-02   8.87478888e-02   1.37481881e-21]\n"
     ]
    }
   ],
   "source": [
    "print(np.shape(test_data_with_int))\n",
    "print(np.shape(test_data))\n",
    "print(test_data_with_int[0])\n",
    "print(test_data[0])"
   ]
  },
  {
   "cell_type": "code",
   "execution_count": 672,
   "metadata": {},
   "outputs": [
    {
     "name": "stdout",
     "output_type": "stream",
     "text": [
      "(150,)\n",
      "(2000,)\n"
     ]
    }
   ],
   "source": [
    "train_targets_int = train_targets[:,1]\n",
    "valid_targets_int = valid_targets[:,1]\n",
    "test_targets_final = test_targets[:,1]\n",
    "print(np.shape(valid_targets_int))\n",
    "print(np.shape(train_targets_int))"
   ]
  },
  {
   "cell_type": "code",
   "execution_count": 673,
   "metadata": {},
   "outputs": [
    {
     "name": "stdout",
     "output_type": "stream",
     "text": [
      "(2150,)\n"
     ]
    }
   ],
   "source": [
    "train_targets_final = np.append(train_targets_int, valid_targets_int)\n",
    "print(np.shape(train_targets_final))"
   ]
  },
  {
   "cell_type": "code",
   "execution_count": 674,
   "metadata": {},
   "outputs": [
    {
     "name": "stdout",
     "output_type": "stream",
     "text": [
      "(600,)\n"
     ]
    }
   ],
   "source": [
    "print(np.shape(test_targets_final))"
   ]
  },
  {
   "cell_type": "markdown",
   "metadata": {},
   "source": [
    "output to file our test and training data"
   ]
  },
  {
   "cell_type": "code",
   "execution_count": 675,
   "metadata": {},
   "outputs": [],
   "source": [
    "np.save(open('./ensemble_input/test.npy', 'wb'), test_data)\n",
    "np.save(open('./ensemble_input/test_with_int.npy', 'wb'), test_data_with_int)\n",
    "np.save(open('./ensemble_input/train.npy', 'wb'), train_data)\n",
    "np.save(open('./ensemble_input/train_with_int.npy', 'wb'), train_data_with_int)"
   ]
  },
  {
   "cell_type": "markdown",
   "metadata": {},
   "source": [
    "### Random Forest"
   ]
  },
  {
   "cell_type": "code",
   "execution_count": 623,
   "metadata": {},
   "outputs": [],
   "source": [
    "from sklearn import metrics\n",
    "from sklearn.ensemble import RandomForestClassifier\n",
    "from sklearn.model_selection import cross_val_score\n",
    "ensemble = RandomForestClassifier(n_estimators=500, random_state=5)\n",
    "ensemble.fit(train_data, train_targets_final)\n",
    "#scores = cross_val_score(ensemble, train_data, train_targets_final, cv=5, scoring='f1_macro')\n",
    "preds = ensemble.predict(test_data)\n"
   ]
  },
  {
   "cell_type": "code",
   "execution_count": 624,
   "metadata": {},
   "outputs": [
    {
     "name": "stdout",
     "output_type": "stream",
     "text": [
      "0.43119266055\n",
      "[[429  52]\n",
      " [ 72  47]]\n",
      "0.793333333333\n",
      "0.49485272897\n",
      "0.394957983193\n"
     ]
    }
   ],
   "source": [
    "print(metrics.f1_score(test_targets_final, preds))\n",
    "print(metrics.confusion_matrix(test_targets_final, preds))\n",
    "print(metrics.accuracy_score(test_targets_final,preds))\n",
    "print(metrics.average_precision_score(test_targets_final, preds))\n",
    "print(metrics.recall_score(test_targets_final, preds))\n",
    "print(metrics.)"
   ]
  },
  {
   "cell_type": "markdown",
   "metadata": {},
   "source": [
    "### RandomForrest with all data including intermediates"
   ]
  },
  {
   "cell_type": "code",
   "execution_count": 627,
   "metadata": {
    "collapsed": true
   },
   "outputs": [],
   "source": [
    "ensemble = RandomForestClassifier(n_estimators=400, random_state=5)\n",
    "ensemble.fit(train_data_with_int, train_targets_final)\n",
    "#scores = cross_val_score(ensemble, train_data, train_targets_final, cv=5, scoring='f1_macro')\n",
    "preds = ensemble.predict(test_data_with_int)\n"
   ]
  },
  {
   "cell_type": "code",
   "execution_count": 628,
   "metadata": {},
   "outputs": [
    {
     "name": "stdout",
     "output_type": "stream",
     "text": [
      "0.444444444444\n",
      "[[432  49]\n",
      " [ 71  48]]\n",
      "0.8\n",
      "0.508270019348\n",
      "0.403361344538\n"
     ]
    }
   ],
   "source": [
    "print(metrics.f1_score(test_targets_final, preds))\n",
    "print(metrics.confusion_matrix(test_targets_final, preds))\n",
    "print(metrics.accuracy_score(test_targets_final,preds))\n",
    "print(metrics.average_precision_score(test_targets_final, preds))\n",
    "print(metrics.recall_score(test_targets_final, preds))"
   ]
  },
  {
   "cell_type": "markdown",
   "metadata": {},
   "source": [
    "## AdaBoost"
   ]
  },
  {
   "cell_type": "code",
   "execution_count": 633,
   "metadata": {},
   "outputs": [],
   "source": [
    "from sklearn.ensemble import AdaBoostClassifier\n",
    "ensemble = AdaBoostClassifier(n_estimators=340, learning_rate=1.0, random_state=5)\n",
    "#ensemble.fit(train_data, train_targets_final)\n",
    "#preds = ensemble.predict(test_data)\n",
    "\n",
    "y_score = ensemble.fit(train_data, train_targets_final).decision_function(test_data)\n",
    "preds = ensemble.predict(test_data)"
   ]
  },
  {
   "cell_type": "code",
   "execution_count": 634,
   "metadata": {},
   "outputs": [
    {
     "name": "stdout",
     "output_type": "stream",
     "text": [
      "0.5\n",
      "[[444  37]\n",
      " [ 67  52]]\n",
      "0.826666666667\n",
      "0.566455559752\n",
      "0.436974789916\n"
     ]
    }
   ],
   "source": [
    "print(metrics.f1_score(test_targets_final, preds))\n",
    "print(metrics.confusion_matrix(test_targets_final, preds))\n",
    "print(metrics.accuracy_score(test_targets_final,preds))\n",
    "print(metrics.average_precision_score(test_targets_final, preds))\n",
    "print(metrics.recall_score(test_targets_final, preds))"
   ]
  },
  {
   "cell_type": "code",
   "execution_count": 493,
   "metadata": {},
   "outputs": [],
   "source": [
    "from sklearn.metrics import roc_curve, auc\n",
    "# Compute ROC curve and ROC area for each class\n",
    "fpr_ada = dict()\n",
    "tpr_ada = dict()\n",
    "roc_auc_ada = dict()\n",
    "\n",
    "fpr_ada, tpr_ada, _ = roc_curve(test_targets_final, y_score)\n",
    "roc_auc_ada = auc(fpr_ada, tpr_ada)\n",
    "\n",
    "# Compute micro-average ROC curve and ROC area\n",
    "fpr[\"micro\"], tpr[\"micro\"], _ = roc_curve(test_targets_final.ravel(), y_score.ravel())\n",
    "roc_auc[\"micro\"] = auc(fpr[\"micro\"], tpr[\"micro\"])"
   ]
  },
  {
   "cell_type": "markdown",
   "metadata": {},
   "source": [
    "### AdaBoost of all models including intermediates"
   ]
  },
  {
   "cell_type": "code",
   "execution_count": 631,
   "metadata": {},
   "outputs": [],
   "source": [
    "ensemble = AdaBoostClassifier(n_estimators=620, learning_rate=1.0, random_state=5)\n",
    "#ensemble.fit(train_data, train_targets_final)\n",
    "#preds = ensemble.predict(test_data)\n",
    "\n",
    "y_score = ensemble.fit(train_data_with_int, train_targets_final).decision_function(test_data_with_int)\n",
    "preds = ensemble.predict(test_data_with_int)"
   ]
  },
  {
   "cell_type": "code",
   "execution_count": 632,
   "metadata": {},
   "outputs": [
    {
     "name": "stdout",
     "output_type": "stream",
     "text": [
      "0.441176470588\n",
      "[[441  40]\n",
      " [ 74  45]]\n",
      "0.81\n",
      "0.515448179272\n",
      "0.378151260504\n"
     ]
    }
   ],
   "source": [
    "print(metrics.f1_score(test_targets_final, preds))\n",
    "print(metrics.confusion_matrix(test_targets_final, preds))\n",
    "print(metrics.accuracy_score(test_targets_final,preds))\n",
    "print(metrics.average_precision_score(test_targets_final, preds))\n",
    "print(metrics.recall_score(test_targets_final, preds))"
   ]
  },
  {
   "cell_type": "markdown",
   "metadata": {},
   "source": [
    "### Bagging"
   ]
  },
  {
   "cell_type": "code",
   "execution_count": 635,
   "metadata": {},
   "outputs": [],
   "source": [
    "from sklearn.ensemble import BaggingClassifier\n",
    "ensemble = BaggingClassifier(n_estimators=600, random_state=5)\n",
    "ensemble.fit(train_data, train_targets_final)\n",
    "preds = ensemble.predict(test_data)\n"
   ]
  },
  {
   "cell_type": "code",
   "execution_count": 636,
   "metadata": {},
   "outputs": [
    {
     "name": "stdout",
     "output_type": "stream",
     "text": [
      "0.431924882629\n",
      "[[433  48]\n",
      " [ 73  46]]\n",
      "0.798333333333\n",
      "0.498791495322\n",
      "0.386554621849\n"
     ]
    }
   ],
   "source": [
    "print(metrics.f1_score(test_targets_final, preds))\n",
    "print(metrics.confusion_matrix(test_targets_final, preds))\n",
    "print(metrics.accuracy_score(test_targets_final,preds))\n",
    "print(metrics.average_precision_score(test_targets_final, preds))\n",
    "print(metrics.recall_score(test_targets_final, preds))"
   ]
  },
  {
   "cell_type": "markdown",
   "metadata": {},
   "source": [
    "### Bagging including all intermediates"
   ]
  },
  {
   "cell_type": "code",
   "execution_count": 637,
   "metadata": {
    "collapsed": true
   },
   "outputs": [],
   "source": [
    "ensemble = BaggingClassifier(n_estimators=2000, random_state=5)\n",
    "ensemble.fit(train_data_with_int, train_targets_final)\n",
    "preds = ensemble.predict(test_data_with_int)\n"
   ]
  },
  {
   "cell_type": "code",
   "execution_count": 638,
   "metadata": {},
   "outputs": [
    {
     "name": "stdout",
     "output_type": "stream",
     "text": [
      "0.427184466019\n",
      "[[438  43]\n",
      " [ 75  44]]\n",
      "0.803333333333\n",
      "0.500247512798\n",
      "0.36974789916\n"
     ]
    }
   ],
   "source": [
    "print(metrics.f1_score(test_targets_final, preds))\n",
    "print(metrics.confusion_matrix(test_targets_final, preds))\n",
    "print(metrics.accuracy_score(test_targets_final,preds))\n",
    "print(metrics.average_precision_score(test_targets_final, preds))\n",
    "print(metrics.recall_score(test_targets_final, preds))"
   ]
  },
  {
   "cell_type": "markdown",
   "metadata": {},
   "source": [
    "### SVC"
   ]
  },
  {
   "cell_type": "code",
   "execution_count": 211,
   "metadata": {},
   "outputs": [
    {
     "name": "stdout",
     "output_type": "stream",
     "text": [
      "Automatically created module for IPython interactive environment\n",
      "# Tuning hyper-parameters for precision\n",
      "\n",
      "Best parameters set found on development set:\n",
      "\n",
      "{'gamma': 0.001, 'C': 100, 'kernel': 'rbf'}\n",
      "\n",
      "Grid scores on development set:\n",
      "\n",
      "0.412 (+/-0.008) for {'gamma': 0.001, 'C': 1, 'kernel': 'rbf'}\n",
      "0.412 (+/-0.008) for {'gamma': 0.0001, 'C': 1, 'kernel': 'rbf'}\n",
      "0.412 (+/-0.008) for {'gamma': 0.001, 'C': 10, 'kernel': 'rbf'}\n",
      "0.412 (+/-0.008) for {'gamma': 0.0001, 'C': 10, 'kernel': 'rbf'}\n",
      "0.992 (+/-0.013) for {'gamma': 0.001, 'C': 100, 'kernel': 'rbf'}\n",
      "0.412 (+/-0.008) for {'gamma': 0.0001, 'C': 100, 'kernel': 'rbf'}\n",
      "0.992 (+/-0.013) for {'gamma': 0.001, 'C': 1000, 'kernel': 'rbf'}\n",
      "0.992 (+/-0.013) for {'gamma': 0.0001, 'C': 1000, 'kernel': 'rbf'}\n",
      "0.992 (+/-0.013) for {'kernel': 'linear', 'C': 1}\n",
      "0.992 (+/-0.013) for {'kernel': 'linear', 'C': 10}\n",
      "0.992 (+/-0.013) for {'kernel': 'linear', 'C': 100}\n",
      "0.992 (+/-0.013) for {'kernel': 'linear', 'C': 1000}\n",
      "\n",
      "Detailed classification report:\n",
      "\n",
      "The model is trained on the full development set.\n",
      "The scores are computed on the full evaluation set.\n",
      "\n",
      "             precision    recall  f1-score   support\n",
      "\n",
      "        0.0       0.98      1.00      0.99      1562\n",
      "        1.0       0.98      0.91      0.94       373\n",
      "\n",
      "avg / total       0.98      0.98      0.98      1935\n",
      "\n",
      "\n",
      "# Tuning hyper-parameters for recall\n",
      "\n"
     ]
    },
    {
     "name": "stderr",
     "output_type": "stream",
     "text": [
      "//anaconda/envs/capstone-project/lib/python3.5/site-packages/sklearn/metrics/classification.py:1113: UndefinedMetricWarning: Precision is ill-defined and being set to 0.0 in labels with no predicted samples.\n",
      "  'precision', 'predicted', average, warn_for)\n",
      "//anaconda/envs/capstone-project/lib/python3.5/site-packages/sklearn/metrics/classification.py:1113: UndefinedMetricWarning: Precision is ill-defined and being set to 0.0 in labels with no predicted samples.\n",
      "  'precision', 'predicted', average, warn_for)\n",
      "//anaconda/envs/capstone-project/lib/python3.5/site-packages/sklearn/metrics/classification.py:1113: UndefinedMetricWarning: Precision is ill-defined and being set to 0.0 in labels with no predicted samples.\n",
      "  'precision', 'predicted', average, warn_for)\n",
      "//anaconda/envs/capstone-project/lib/python3.5/site-packages/sklearn/metrics/classification.py:1113: UndefinedMetricWarning: Precision is ill-defined and being set to 0.0 in labels with no predicted samples.\n",
      "  'precision', 'predicted', average, warn_for)\n",
      "//anaconda/envs/capstone-project/lib/python3.5/site-packages/sklearn/metrics/classification.py:1113: UndefinedMetricWarning: Precision is ill-defined and being set to 0.0 in labels with no predicted samples.\n",
      "  'precision', 'predicted', average, warn_for)\n",
      "//anaconda/envs/capstone-project/lib/python3.5/site-packages/sklearn/metrics/classification.py:1113: UndefinedMetricWarning: Precision is ill-defined and being set to 0.0 in labels with no predicted samples.\n",
      "  'precision', 'predicted', average, warn_for)\n",
      "//anaconda/envs/capstone-project/lib/python3.5/site-packages/sklearn/metrics/classification.py:1113: UndefinedMetricWarning: Precision is ill-defined and being set to 0.0 in labels with no predicted samples.\n",
      "  'precision', 'predicted', average, warn_for)\n",
      "//anaconda/envs/capstone-project/lib/python3.5/site-packages/sklearn/metrics/classification.py:1113: UndefinedMetricWarning: Precision is ill-defined and being set to 0.0 in labels with no predicted samples.\n",
      "  'precision', 'predicted', average, warn_for)\n",
      "//anaconda/envs/capstone-project/lib/python3.5/site-packages/sklearn/metrics/classification.py:1113: UndefinedMetricWarning: Precision is ill-defined and being set to 0.0 in labels with no predicted samples.\n",
      "  'precision', 'predicted', average, warn_for)\n",
      "//anaconda/envs/capstone-project/lib/python3.5/site-packages/sklearn/metrics/classification.py:1113: UndefinedMetricWarning: Precision is ill-defined and being set to 0.0 in labels with no predicted samples.\n",
      "  'precision', 'predicted', average, warn_for)\n",
      "//anaconda/envs/capstone-project/lib/python3.5/site-packages/sklearn/metrics/classification.py:1113: UndefinedMetricWarning: Precision is ill-defined and being set to 0.0 in labels with no predicted samples.\n",
      "  'precision', 'predicted', average, warn_for)\n",
      "//anaconda/envs/capstone-project/lib/python3.5/site-packages/sklearn/metrics/classification.py:1113: UndefinedMetricWarning: Precision is ill-defined and being set to 0.0 in labels with no predicted samples.\n",
      "  'precision', 'predicted', average, warn_for)\n",
      "//anaconda/envs/capstone-project/lib/python3.5/site-packages/sklearn/metrics/classification.py:1113: UndefinedMetricWarning: Precision is ill-defined and being set to 0.0 in labels with no predicted samples.\n",
      "  'precision', 'predicted', average, warn_for)\n",
      "//anaconda/envs/capstone-project/lib/python3.5/site-packages/sklearn/metrics/classification.py:1113: UndefinedMetricWarning: Precision is ill-defined and being set to 0.0 in labels with no predicted samples.\n",
      "  'precision', 'predicted', average, warn_for)\n",
      "//anaconda/envs/capstone-project/lib/python3.5/site-packages/sklearn/metrics/classification.py:1113: UndefinedMetricWarning: Precision is ill-defined and being set to 0.0 in labels with no predicted samples.\n",
      "  'precision', 'predicted', average, warn_for)\n",
      "//anaconda/envs/capstone-project/lib/python3.5/site-packages/sklearn/metrics/classification.py:1113: UndefinedMetricWarning: Precision is ill-defined and being set to 0.0 in labels with no predicted samples.\n",
      "  'precision', 'predicted', average, warn_for)\n",
      "//anaconda/envs/capstone-project/lib/python3.5/site-packages/sklearn/metrics/classification.py:1113: UndefinedMetricWarning: Precision is ill-defined and being set to 0.0 in labels with no predicted samples.\n",
      "  'precision', 'predicted', average, warn_for)\n",
      "//anaconda/envs/capstone-project/lib/python3.5/site-packages/sklearn/metrics/classification.py:1113: UndefinedMetricWarning: Precision is ill-defined and being set to 0.0 in labels with no predicted samples.\n",
      "  'precision', 'predicted', average, warn_for)\n",
      "//anaconda/envs/capstone-project/lib/python3.5/site-packages/sklearn/metrics/classification.py:1113: UndefinedMetricWarning: Precision is ill-defined and being set to 0.0 in labels with no predicted samples.\n",
      "  'precision', 'predicted', average, warn_for)\n",
      "//anaconda/envs/capstone-project/lib/python3.5/site-packages/sklearn/metrics/classification.py:1113: UndefinedMetricWarning: Precision is ill-defined and being set to 0.0 in labels with no predicted samples.\n",
      "  'precision', 'predicted', average, warn_for)\n",
      "//anaconda/envs/capstone-project/lib/python3.5/site-packages/sklearn/metrics/classification.py:1113: UndefinedMetricWarning: Precision is ill-defined and being set to 0.0 in labels with no predicted samples.\n",
      "  'precision', 'predicted', average, warn_for)\n",
      "//anaconda/envs/capstone-project/lib/python3.5/site-packages/sklearn/metrics/classification.py:1113: UndefinedMetricWarning: Precision is ill-defined and being set to 0.0 in labels with no predicted samples.\n",
      "  'precision', 'predicted', average, warn_for)\n",
      "//anaconda/envs/capstone-project/lib/python3.5/site-packages/sklearn/metrics/classification.py:1113: UndefinedMetricWarning: Precision is ill-defined and being set to 0.0 in labels with no predicted samples.\n",
      "  'precision', 'predicted', average, warn_for)\n",
      "//anaconda/envs/capstone-project/lib/python3.5/site-packages/sklearn/metrics/classification.py:1113: UndefinedMetricWarning: Precision is ill-defined and being set to 0.0 in labels with no predicted samples.\n",
      "  'precision', 'predicted', average, warn_for)\n",
      "//anaconda/envs/capstone-project/lib/python3.5/site-packages/sklearn/metrics/classification.py:1113: UndefinedMetricWarning: Precision is ill-defined and being set to 0.0 in labels with no predicted samples.\n",
      "  'precision', 'predicted', average, warn_for)\n"
     ]
    },
    {
     "name": "stdout",
     "output_type": "stream",
     "text": [
      "Best parameters set found on development set:\n",
      "\n",
      "{'gamma': 0.001, 'C': 100, 'kernel': 'rbf'}\n",
      "\n",
      "Grid scores on development set:\n",
      "\n",
      "0.500 (+/-0.000) for {'gamma': 0.001, 'C': 1, 'kernel': 'rbf'}\n",
      "0.500 (+/-0.000) for {'gamma': 0.0001, 'C': 1, 'kernel': 'rbf'}\n",
      "0.500 (+/-0.000) for {'gamma': 0.001, 'C': 10, 'kernel': 'rbf'}\n",
      "0.500 (+/-0.000) for {'gamma': 0.0001, 'C': 10, 'kernel': 'rbf'}\n",
      "0.960 (+/-0.064) for {'gamma': 0.001, 'C': 100, 'kernel': 'rbf'}\n",
      "0.500 (+/-0.000) for {'gamma': 0.0001, 'C': 100, 'kernel': 'rbf'}\n",
      "0.960 (+/-0.064) for {'gamma': 0.001, 'C': 1000, 'kernel': 'rbf'}\n",
      "0.960 (+/-0.064) for {'gamma': 0.0001, 'C': 1000, 'kernel': 'rbf'}\n",
      "0.960 (+/-0.064) for {'kernel': 'linear', 'C': 1}\n",
      "0.960 (+/-0.064) for {'kernel': 'linear', 'C': 10}\n",
      "0.960 (+/-0.064) for {'kernel': 'linear', 'C': 100}\n",
      "0.960 (+/-0.064) for {'kernel': 'linear', 'C': 1000}\n",
      "\n",
      "Detailed classification report:\n",
      "\n",
      "The model is trained on the full development set.\n",
      "The scores are computed on the full evaluation set.\n",
      "\n",
      "             precision    recall  f1-score   support\n",
      "\n",
      "        0.0       0.98      1.00      0.99      1562\n",
      "        1.0       0.98      0.91      0.94       373\n",
      "\n",
      "avg / total       0.98      0.98      0.98      1935\n",
      "\n",
      "\n"
     ]
    }
   ],
   "source": [
    "from __future__ import print_function\n",
    "\n",
    "from sklearn import datasets\n",
    "from sklearn.model_selection import train_test_split\n",
    "from sklearn.model_selection import GridSearchCV\n",
    "from sklearn.metrics import classification_report\n",
    "from sklearn.svm import SVC\n",
    "\n",
    "print(__doc__)\n",
    "\n",
    "# Split the dataset in two equal parts\n",
    "X_train, X_test, y_train, y_test = train_test_split(\n",
    "    train_data, train_targets_final, test_size=0.9, random_state=5)\n",
    "\n",
    "# Set the parameters by cross-validation\n",
    "tuned_parameters = [{'kernel': ['rbf'], 'gamma': [1e-3, 1e-4],\n",
    "                     'C': [1, 10, 100, 1000]},\n",
    "                    {'kernel': ['linear'], 'C': [1, 10, 100, 1000]}]\n",
    "\n",
    "scores = ['precision', 'recall']\n",
    "\n",
    "for score in scores:\n",
    "    print(\"# Tuning hyper-parameters for %s\" % score)\n",
    "    print()\n",
    "\n",
    "    clf = GridSearchCV(SVC(), tuned_parameters, cv=5,\n",
    "                       scoring='%s_macro' % score)\n",
    "    clf.fit(X_train, y_train)\n",
    "\n",
    "    print(\"Best parameters set found on development set:\")\n",
    "    print()\n",
    "    print(clf.best_params_)\n",
    "    print()\n",
    "    print(\"Grid scores on development set:\")\n",
    "    print()\n",
    "    means = clf.cv_results_['mean_test_score']\n",
    "    stds = clf.cv_results_['std_test_score']\n",
    "    for mean, std, params in zip(means, stds, clf.cv_results_['params']):\n",
    "        print(\"%0.3f (+/-%0.03f) for %r\"\n",
    "              % (mean, std * 2, params))\n",
    "    print()\n",
    "\n",
    "    print(\"Detailed classification report:\")\n",
    "    print()\n",
    "    print(\"The model is trained on the full development set.\")\n",
    "    print(\"The scores are computed on the full evaluation set.\")\n",
    "    print()\n",
    "    y_true, y_pred = y_test, clf.predict(X_test)\n",
    "    print(classification_report(y_true, y_pred))\n",
    "    print()\n",
    "\n"
   ]
  },
  {
   "cell_type": "code",
   "execution_count": 212,
   "metadata": {},
   "outputs": [
    {
     "data": {
      "text/plain": [
       "{'C': 100, 'gamma': 0.001, 'kernel': 'rbf'}"
      ]
     },
     "execution_count": 212,
     "metadata": {},
     "output_type": "execute_result"
    }
   ],
   "source": [
    "clf.best_params_"
   ]
  },
  {
   "cell_type": "code",
   "execution_count": 645,
   "metadata": {},
   "outputs": [],
   "source": [
    "from sklearn.svm import SVC\n",
    "\n",
    "svc = SVC(kernel='rbf', C=100, gamma=0.1, random_state=5, probability=True)\n",
    "svc.fit(train_data, train_targets_final)\n",
    "preds = svc.predict(test_data)"
   ]
  },
  {
   "cell_type": "code",
   "execution_count": 646,
   "metadata": {},
   "outputs": [
    {
     "name": "stdout",
     "output_type": "stream",
     "text": [
      "0.45045045045\n",
      "[[428  53]\n",
      " [ 69  50]]\n",
      "0.796666666667\n",
      "0.510302480215\n",
      "0.420168067227\n"
     ]
    }
   ],
   "source": [
    "print(metrics.f1_score(test_targets_final, preds))\n",
    "print(metrics.confusion_matrix(test_targets_final, preds))\n",
    "print(metrics.accuracy_score(test_targets_final,preds))\n",
    "print(metrics.average_precision_score(test_targets_final, preds))\n",
    "print(metrics.recall_score(test_targets_final, preds))"
   ]
  },
  {
   "cell_type": "markdown",
   "metadata": {},
   "source": [
    "### SVC with all intermediate results"
   ]
  },
  {
   "cell_type": "code",
   "execution_count": 614,
   "metadata": {},
   "outputs": [
    {
     "name": "stdout",
     "output_type": "stream",
     "text": [
      "# Tuning hyper-parameters for precision\n",
      "\n",
      "Best parameters set found on development set:\n",
      "\n",
      "{'gamma': 0.001, 'C': 100, 'kernel': 'rbf'}\n",
      "\n",
      "Grid scores on development set:\n",
      "\n",
      "0.412 (+/-0.008) for {'gamma': 0.001, 'C': 1, 'kernel': 'rbf'}\n",
      "0.412 (+/-0.008) for {'gamma': 0.0001, 'C': 1, 'kernel': 'rbf'}\n",
      "0.984 (+/-0.010) for {'gamma': 0.001, 'C': 10, 'kernel': 'rbf'}\n",
      "0.412 (+/-0.008) for {'gamma': 0.0001, 'C': 10, 'kernel': 'rbf'}\n",
      "0.992 (+/-0.013) for {'gamma': 0.001, 'C': 100, 'kernel': 'rbf'}\n",
      "0.984 (+/-0.010) for {'gamma': 0.0001, 'C': 100, 'kernel': 'rbf'}\n",
      "0.992 (+/-0.013) for {'gamma': 0.001, 'C': 1000, 'kernel': 'rbf'}\n",
      "0.992 (+/-0.013) for {'gamma': 0.0001, 'C': 1000, 'kernel': 'rbf'}\n",
      "0.992 (+/-0.013) for {'kernel': 'linear', 'C': 1}\n",
      "0.977 (+/-0.039) for {'kernel': 'linear', 'C': 10}\n",
      "0.968 (+/-0.045) for {'kernel': 'linear', 'C': 100}\n",
      "0.968 (+/-0.045) for {'kernel': 'linear', 'C': 1000}\n",
      "\n",
      "Detailed classification report:\n",
      "\n",
      "The model is trained on the full development set.\n",
      "The scores are computed on the full evaluation set.\n",
      "\n",
      "             precision    recall  f1-score   support\n",
      "\n",
      "        0.0       0.98      0.99      0.99      1562\n",
      "        1.0       0.98      0.91      0.94       373\n",
      "\n",
      "avg / total       0.98      0.98      0.98      1935\n",
      "\n",
      "\n",
      "# Tuning hyper-parameters for recall\n",
      "\n"
     ]
    },
    {
     "name": "stderr",
     "output_type": "stream",
     "text": [
      "//anaconda/envs/capstone-project/lib/python3.5/site-packages/sklearn/metrics/classification.py:1113: UndefinedMetricWarning: Precision is ill-defined and being set to 0.0 in labels with no predicted samples.\n",
      "  'precision', 'predicted', average, warn_for)\n",
      "//anaconda/envs/capstone-project/lib/python3.5/site-packages/sklearn/metrics/classification.py:1113: UndefinedMetricWarning: Precision is ill-defined and being set to 0.0 in labels with no predicted samples.\n",
      "  'precision', 'predicted', average, warn_for)\n",
      "//anaconda/envs/capstone-project/lib/python3.5/site-packages/sklearn/metrics/classification.py:1113: UndefinedMetricWarning: Precision is ill-defined and being set to 0.0 in labels with no predicted samples.\n",
      "  'precision', 'predicted', average, warn_for)\n",
      "//anaconda/envs/capstone-project/lib/python3.5/site-packages/sklearn/metrics/classification.py:1113: UndefinedMetricWarning: Precision is ill-defined and being set to 0.0 in labels with no predicted samples.\n",
      "  'precision', 'predicted', average, warn_for)\n",
      "//anaconda/envs/capstone-project/lib/python3.5/site-packages/sklearn/metrics/classification.py:1113: UndefinedMetricWarning: Precision is ill-defined and being set to 0.0 in labels with no predicted samples.\n",
      "  'precision', 'predicted', average, warn_for)\n",
      "//anaconda/envs/capstone-project/lib/python3.5/site-packages/sklearn/metrics/classification.py:1113: UndefinedMetricWarning: Precision is ill-defined and being set to 0.0 in labels with no predicted samples.\n",
      "  'precision', 'predicted', average, warn_for)\n",
      "//anaconda/envs/capstone-project/lib/python3.5/site-packages/sklearn/metrics/classification.py:1113: UndefinedMetricWarning: Precision is ill-defined and being set to 0.0 in labels with no predicted samples.\n",
      "  'precision', 'predicted', average, warn_for)\n",
      "//anaconda/envs/capstone-project/lib/python3.5/site-packages/sklearn/metrics/classification.py:1113: UndefinedMetricWarning: Precision is ill-defined and being set to 0.0 in labels with no predicted samples.\n",
      "  'precision', 'predicted', average, warn_for)\n",
      "//anaconda/envs/capstone-project/lib/python3.5/site-packages/sklearn/metrics/classification.py:1113: UndefinedMetricWarning: Precision is ill-defined and being set to 0.0 in labels with no predicted samples.\n",
      "  'precision', 'predicted', average, warn_for)\n",
      "//anaconda/envs/capstone-project/lib/python3.5/site-packages/sklearn/metrics/classification.py:1113: UndefinedMetricWarning: Precision is ill-defined and being set to 0.0 in labels with no predicted samples.\n",
      "  'precision', 'predicted', average, warn_for)\n",
      "//anaconda/envs/capstone-project/lib/python3.5/site-packages/sklearn/metrics/classification.py:1113: UndefinedMetricWarning: Precision is ill-defined and being set to 0.0 in labels with no predicted samples.\n",
      "  'precision', 'predicted', average, warn_for)\n",
      "//anaconda/envs/capstone-project/lib/python3.5/site-packages/sklearn/metrics/classification.py:1113: UndefinedMetricWarning: Precision is ill-defined and being set to 0.0 in labels with no predicted samples.\n",
      "  'precision', 'predicted', average, warn_for)\n",
      "//anaconda/envs/capstone-project/lib/python3.5/site-packages/sklearn/metrics/classification.py:1113: UndefinedMetricWarning: Precision is ill-defined and being set to 0.0 in labels with no predicted samples.\n",
      "  'precision', 'predicted', average, warn_for)\n",
      "//anaconda/envs/capstone-project/lib/python3.5/site-packages/sklearn/metrics/classification.py:1113: UndefinedMetricWarning: Precision is ill-defined and being set to 0.0 in labels with no predicted samples.\n",
      "  'precision', 'predicted', average, warn_for)\n",
      "//anaconda/envs/capstone-project/lib/python3.5/site-packages/sklearn/metrics/classification.py:1113: UndefinedMetricWarning: Precision is ill-defined and being set to 0.0 in labels with no predicted samples.\n",
      "  'precision', 'predicted', average, warn_for)\n"
     ]
    },
    {
     "name": "stdout",
     "output_type": "stream",
     "text": [
      "Best parameters set found on development set:\n",
      "\n",
      "{'gamma': 0.001, 'C': 100, 'kernel': 'rbf'}\n",
      "\n",
      "Grid scores on development set:\n",
      "\n",
      "0.500 (+/-0.000) for {'gamma': 0.001, 'C': 1, 'kernel': 'rbf'}\n",
      "0.500 (+/-0.000) for {'gamma': 0.0001, 'C': 1, 'kernel': 'rbf'}\n",
      "0.921 (+/-0.048) for {'gamma': 0.001, 'C': 10, 'kernel': 'rbf'}\n",
      "0.500 (+/-0.000) for {'gamma': 0.0001, 'C': 10, 'kernel': 'rbf'}\n",
      "0.960 (+/-0.064) for {'gamma': 0.001, 'C': 100, 'kernel': 'rbf'}\n",
      "0.921 (+/-0.048) for {'gamma': 0.0001, 'C': 100, 'kernel': 'rbf'}\n",
      "0.960 (+/-0.064) for {'gamma': 0.001, 'C': 1000, 'kernel': 'rbf'}\n",
      "0.960 (+/-0.064) for {'gamma': 0.0001, 'C': 1000, 'kernel': 'rbf'}\n",
      "0.960 (+/-0.064) for {'kernel': 'linear', 'C': 1}\n",
      "0.945 (+/-0.041) for {'kernel': 'linear', 'C': 10}\n",
      "0.955 (+/-0.050) for {'kernel': 'linear', 'C': 100}\n",
      "0.955 (+/-0.050) for {'kernel': 'linear', 'C': 1000}\n",
      "\n",
      "Detailed classification report:\n",
      "\n",
      "The model is trained on the full development set.\n",
      "The scores are computed on the full evaluation set.\n",
      "\n",
      "             precision    recall  f1-score   support\n",
      "\n",
      "        0.0       0.98      0.99      0.99      1562\n",
      "        1.0       0.98      0.91      0.94       373\n",
      "\n",
      "avg / total       0.98      0.98      0.98      1935\n",
      "\n",
      "\n"
     ]
    }
   ],
   "source": [
    "# Split the dataset in two equal parts\n",
    "X_train, X_test, y_train, y_test = train_test_split(\n",
    "    train_data_with_int, train_targets_final, test_size=0.9, random_state=5)\n",
    "\n",
    "# Set the parameters by cross-validation\n",
    "tuned_parameters = [{'kernel': ['rbf'], 'gamma': [1e-3, 1e-4],\n",
    "                     'C': [1, 10, 100, 1000]},\n",
    "                    {'kernel': ['linear'], 'C': [1, 10, 100, 1000]}]\n",
    "\n",
    "scores = ['precision', 'recall']\n",
    "\n",
    "for score in scores:\n",
    "    print(\"# Tuning hyper-parameters for %s\" % score)\n",
    "    print()\n",
    "\n",
    "    clf = GridSearchCV(SVC(), tuned_parameters, cv=5,\n",
    "                       scoring='%s_macro' % score)\n",
    "    clf.fit(X_train, y_train)\n",
    "\n",
    "    print(\"Best parameters set found on development set:\")\n",
    "    print()\n",
    "    print(clf.best_params_)\n",
    "    print()\n",
    "    print(\"Grid scores on development set:\")\n",
    "    print()\n",
    "    means = clf.cv_results_['mean_test_score']\n",
    "    stds = clf.cv_results_['std_test_score']\n",
    "    for mean, std, params in zip(means, stds, clf.cv_results_['params']):\n",
    "        print(\"%0.3f (+/-%0.03f) for %r\"\n",
    "              % (mean, std * 2, params))\n",
    "    print()\n",
    "\n",
    "    print(\"Detailed classification report:\")\n",
    "    print()\n",
    "    print(\"The model is trained on the full development set.\")\n",
    "    print(\"The scores are computed on the full evaluation set.\")\n",
    "    print()\n",
    "    y_true, y_pred = y_test, clf.predict(X_test)\n",
    "    print(classification_report(y_true, y_pred))\n",
    "    print()"
   ]
  },
  {
   "cell_type": "code",
   "execution_count": 615,
   "metadata": {},
   "outputs": [
    {
     "data": {
      "text/plain": [
       "{'C': 100, 'gamma': 0.001, 'kernel': 'rbf'}"
      ]
     },
     "execution_count": 615,
     "metadata": {},
     "output_type": "execute_result"
    }
   ],
   "source": [
    "clf.best_params_"
   ]
  },
  {
   "cell_type": "code",
   "execution_count": 643,
   "metadata": {},
   "outputs": [],
   "source": [
    "svc = SVC(kernel='rbf', C=100, gamma=0.1, random_state=5, probability=True)\n",
    "svc.fit(train_data_with_int, train_targets_final)\n",
    "preds = svc.predict(test_data_with_int)"
   ]
  },
  {
   "cell_type": "code",
   "execution_count": 644,
   "metadata": {},
   "outputs": [
    {
     "name": "stdout",
     "output_type": "stream",
     "text": [
      "0.45045045045\n",
      "[[428  53]\n",
      " [ 69  50]]\n",
      "0.796666666667\n",
      "0.510302480215\n",
      "0.420168067227\n"
     ]
    }
   ],
   "source": [
    "print(metrics.f1_score(test_targets_final, preds))\n",
    "print(metrics.confusion_matrix(test_targets_final, preds))\n",
    "print(metrics.accuracy_score(test_targets_final,preds))\n",
    "print(metrics.average_precision_score(test_targets_final, preds))\n",
    "print(metrics.recall_score(test_targets_final, preds))"
   ]
  },
  {
   "cell_type": "markdown",
   "metadata": {},
   "source": [
    "### Results"
   ]
  },
  {
   "cell_type": "markdown",
   "metadata": {},
   "source": [
    "Roc curve for the best ensemble (ADABoost) and each of our individual classifiers"
   ]
  },
  {
   "cell_type": "code",
   "execution_count": 676,
   "metadata": {
    "collapsed": true
   },
   "outputs": [],
   "source": [
    "# Compute ROC curve and ROC area for Xception final\n",
    "fpr_xception_final = dict()\n",
    "tpr_xception_final = dict()\n",
    "roc_auc_xception_final = dict()\n",
    "\n",
    "fpr_xception_final, tpr_xception_final, _ = roc_curve(test_targets_final, xception_final_test[:,1])\n",
    "roc_auc_xception_final = auc(fpr_xception_final, tpr_xception_final)"
   ]
  },
  {
   "cell_type": "code",
   "execution_count": 677,
   "metadata": {
    "collapsed": true
   },
   "outputs": [],
   "source": [
    "# Compute Roc curve and ROC area for Xception intermediate\n",
    "fpr_xception_intermediate = dict()\n",
    "tpr_xception_intermediate = dict()\n",
    "roc_auc_xception_intermediate = dict()\n",
    "\n",
    "fpr_xception_intermediate, tpr_xception_intermediate, _ = roc_curve(test_targets_final, xception_intermediate_test[:,1])\n",
    "roc_auc_xception_intermediate = auc(fpr_xception_intermediate, tpr_xception_intermediate)"
   ]
  },
  {
   "cell_type": "code",
   "execution_count": 678,
   "metadata": {
    "collapsed": true
   },
   "outputs": [],
   "source": [
    "# Compute ROC curve and ROC area for ResNet final\n",
    "fpr_resnet_final = dict()\n",
    "tpr_resnet_final = dict()\n",
    "roc_auc_resnet_final = dict()\n",
    "\n",
    "fpr_resnet_final, tpr_resnet_final, _ = roc_curve(test_targets_final, resnet_final_test[:,1])\n",
    "roc_auc_resnet_final = auc(fpr_resnet_final, tpr_resnet_final)"
   ]
  },
  {
   "cell_type": "code",
   "execution_count": 679,
   "metadata": {
    "collapsed": true
   },
   "outputs": [],
   "source": [
    "# Compute ROC curve and ROC area for InceptionV3 final\n",
    "fpr_inception_final = dict()\n",
    "tpr_inception_final = dict()\n",
    "roc_auc_inception_final = dict()\n",
    "\n",
    "fpr_inception_final, tpr_inception_final, _ = roc_curve(test_targets_final, inception_final_test[:,1])\n",
    "roc_auc_inception_final = auc(fpr_inception_final, tpr_inception_final)"
   ]
  },
  {
   "cell_type": "code",
   "execution_count": 680,
   "metadata": {
    "collapsed": true
   },
   "outputs": [],
   "source": [
    "# Compute ROC curve and ROC area for InceptionV3 final\n",
    "fpr_inception_final = dict()\n",
    "tpr_inception_final = dict()\n",
    "roc_auc_inception_final = dict()\n",
    "\n",
    "fpr_inception_final, tpr_inception_final, _ = roc_curve(test_targets_final, inception_final_test[:,1])\n",
    "roc_auc_inception_final = auc(fpr_inception_final, tpr_inception_final)"
   ]
  },
  {
   "cell_type": "code",
   "execution_count": 681,
   "metadata": {
    "collapsed": true
   },
   "outputs": [],
   "source": [
    "# Compute ROC curve and ROC area for InceptionV3 intermediate\n",
    "fpr_inception_intermediate = dict()\n",
    "tpr_inception_intermediate = dict()\n",
    "roc_auc_inception_intermediate = dict()\n",
    "\n",
    "fpr_inception_intermediate, tpr_inception_intermediate, _ = roc_curve(test_targets_final, inception_intermediate_test[:,1])\n",
    "roc_auc_inception_intermediate = auc(fpr_inception_intermediate, tpr_inception_intermediate)"
   ]
  },
  {
   "cell_type": "code",
   "execution_count": 694,
   "metadata": {},
   "outputs": [
    {
     "data": {
      "image/png": "[encoded data removed]",
      "text/plain": [
       "<matplotlib.figure.Figure at 0x11655b278>"
      ]
     },
     "metadata": {},
     "output_type": "display_data"
    }
   ],
   "source": [
    "import matplotlib.pyplot as plt\n",
    "plt.figure(figsize=(20,20))\n",
    "lw = 2\n",
    "plt.plot(fpr_ada, tpr_ada, color='red',\n",
    "         lw=lw, label='AdaBoost Ensemble (area = %0.2f)' % roc_auc_ada)\n",
    "plt.plot(fpr_xception_final, tpr_xception_final, color='green',\n",
    "         lw=lw, label='Xception Final (area = %0.2f)' % roc_auc_xception_final)\n",
    "plt.plot(fpr_xception_intermediate, tpr_xception_intermediate, color='lightgreen',\n",
    "         lw=lw, label='Xception Intermediate (area = %0.2f)' % roc_auc_xception_intermediate)\n",
    "plt.plot(fpr_resnet_final, tpr_resnet_final, color='darkorange',\n",
    "         lw=lw, label='ResNet50 Final (area = %0.2f)' % roc_auc_resnet_final)\n",
    "plt.plot(fpr_inception_final, tpr_inception_final, color='violet',\n",
    "         lw=lw, label='InceptionV3 Final (area = %0.2f)' % roc_auc_inception_final)\n",
    "plt.plot(fpr_inception_intermediate, tpr_inception_intermediate, color='purple',\n",
    "         lw=lw, label='InceptionV3 Intermediate (area = %0.2f)' % roc_auc_inception_intermediate)\n",
    "plt.plot([0, 1], [0, 1], color='navy', lw=lw, linestyle='--')\n",
    "plt.xlim([0.0, 1.0])\n",
    "plt.ylim([0.0, 1.05])\n",
    "plt.xticks(np.arange(0.0, 1.05, 0.05))\n",
    "plt.yticks(np.arange(0.0, 1.05, 0.05))\n",
    "plt.grid(True)\n",
    "plt.xlabel('False Positive Rate')\n",
    "plt.ylabel('True Positive Rate')\n",
    "plt.title('Receiver operating characteristic for individual models and ensemble')\n",
    "plt.legend(loc=\"lower right\")\n",
    "plt.show()"
   ]
  },
  {
   "cell_type": "code",
   "execution_count": null,
   "metadata": {
    "collapsed": true
   },
   "outputs": [],
   "source": []
  }
 ],
 "metadata": {
  "kernelspec": {
   "display_name": "Python [conda env:capstone-project]",
   "language": "python",
   "name": "conda-env-capstone-project-py"
  },
  "language_info": {
   "codemirror_mode": {
    "name": "ipython",
    "version": 3
   },
   "file_extension": ".py",
   "mimetype": "text/x-python",
   "name": "python",
   "nbconvert_exporter": "python",
   "pygments_lexer": "ipython3",
   "version": "3.5.3"
  }
 },
 "nbformat": 4,
 "nbformat_minor": 1
}
